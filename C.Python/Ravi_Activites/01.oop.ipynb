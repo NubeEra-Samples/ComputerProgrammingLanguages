{
 "cells": [
  {
   "cell_type": "code",
   "execution_count": null,
   "metadata": {},
   "outputs": [],
   "source": [
    "#--------- class Created-------------\n",
    "\n",
    "class first: x = 50\n",
    "obj = first()\n",
    "print(obj.x)"
   ]
  },
  {
   "cell_type": "code",
   "execution_count": 2,
   "metadata": {},
   "outputs": [],
   "source": [
    "#--------------- class and object created-------------\n",
    "\n",
    "class faculty :\n",
    "    def __init__(self):\n",
    "        self.id = int(input(\"Enter faculty id :\"))\n",
    "        self.name = input(\"Enter Name :\")\n",
    "        self.salary = int(input(\"Enter faculty salary :\"))\n",
    "\n",
    "    def display(self):\n",
    "        print(\"faculty id:\",self.id)\n",
    "        print(\"faculty name:\",self.name)\n",
    "        print(\"faculty salary:\",self.salary)\n",
    "\n",
    "a = faculty()\n",
    "a.putdata()\n",
    "a.display()"
   ]
  },
  {
   "cell_type": "code",
   "execution_count": null,
   "metadata": {},
   "outputs": [],
   "source": [
    "# ________________Constructors__Start_____________________\n",
    "\n",
    "# ----------# Method 1-------\n",
    "\n",
    "class faculty:\n",
    "    def __init__(self):\n",
    "        self.id = int(input(\"Enter faculty id :\"))\n",
    "        self.name = input(\"Enter your name :\")\n",
    "        self.salary = int(input(\"Enter faculty salary :\"))\n",
    "\n",
    "    def display(self):\n",
    "        print(\"faculty id :\", self.id)\n",
    "        print(\"faculty name :\", self.name)\n",
    "        print(\"faculty salary:\", self.salary)\n",
    "\n",
    "a=faculty()\n",
    "a.display()"
   ]
  },
  {
   "cell_type": "code",
   "execution_count": null,
   "metadata": {},
   "outputs": [],
   "source": [
    "# ----------# Method 2-------\n",
    "\n",
    "class Student:\n",
    "    def __init__(self, a, b, c):\n",
    "        self.id = a\n",
    "        self.name = b\n",
    "        self.salary = c\n",
    "    \n",
    "    def display(self):\n",
    "        print(\"self id :\", self.id)\n",
    "        print(\"self name\", self.name)\n",
    "        print(\"self.salary\", self.salary)\n",
    "\n",
    "d = Student(1, \"ravi\", 10000)\n",
    "d.display()\n",
    "\n",
    "# ________________Constructors__End_____________________\n"
   ]
  },
  {
   "cell_type": "code",
   "execution_count": null,
   "metadata": {},
   "outputs": [],
   "source": [
    "#------ Inheritence Example --------------\n",
    "\n",
    "class parent:\n",
    "    def __init__(self):\n",
    "        self.firstName = input(\"Enter your first name :\")\n",
    "        self.lastName  =  input(\"Enter your last name :\")\n",
    "    \n",
    "    def printParent(self):\n",
    "        print(self.firstName, self.lastName)\n",
    "\n",
    "class child(parent):\n",
    "    pass\n",
    "\n",
    "a = child()\n",
    "a.printParent()"
   ]
  }
 ],
 "metadata": {
  "kernelspec": {
   "display_name": "Python 3",
   "language": "python",
   "name": "python3"
  },
  "language_info": {
   "codemirror_mode": {
    "name": "ipython",
    "version": 3
   },
   "file_extension": ".py",
   "mimetype": "text/x-python",
   "name": "python",
   "nbconvert_exporter": "python",
   "pygments_lexer": "ipython3",
   "version": "3.12.0"
  }
 },
 "nbformat": 4,
 "nbformat_minor": 2
}
