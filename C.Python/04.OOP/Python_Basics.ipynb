{
  "cells": [
    {
      "cell_type": "markdown",
      "metadata": {
        "id": "YHnncs7GJFnG"
      },
      "source": [
        "# Basics of Python"
      ]
    },
    {
      "cell_type": "code",
      "execution_count": 2,
      "metadata": {
        "colab": {
          "base_uri": "https://localhost:8080/"
        },
        "id": "1DyHn2GuIthC",
        "outputId": "1c6b1b8b-bf2c-40dd-8940-579f3824c20d"
      },
      "outputs": [
        {
          "name": "stdout",
          "output_type": "stream",
          "text": [
            "11\n",
            "22\n",
            "33\n",
            "44\n",
            "55\n"
          ]
        }
      ],
      "source": [
        "data=[11,22,33,44,55]\n",
        "for d in data:\n",
        "  print(d)"
      ]
    },
    {
      "cell_type": "code",
      "execution_count": 4,
      "metadata": {
        "colab": {
          "base_uri": "https://localhost:8080/"
        },
        "id": "M4aqRzjGIxcI",
        "outputId": "7770233a-7f05-4432-a3ac-734c3fd0853c"
      },
      "outputs": [
        {
          "name": "stdout",
          "output_type": "stream",
          "text": [
            "3\n",
            "6\n",
            "9\n",
            "12\n",
            "15\n",
            "18\n",
            "21\n",
            "24\n",
            "27\n",
            "30\n"
          ]
        }
      ],
      "source": [
        "s = 1\n",
        "e = 10\n",
        "t = 3\n",
        "while s<=e:\n",
        "  print(s*t)\n",
        "  s=s+1"
      ]
    },
    {
      "cell_type": "code",
      "execution_count": 5,
      "metadata": {
        "colab": {
          "base_uri": "https://localhost:8080/"
        },
        "id": "9xCD-87vKAn5",
        "outputId": "deed5ce2-2d22-4e18-dab9-e23a030133a0"
      },
      "outputs": [
        {
          "name": "stdout",
          "output_type": "stream",
          "text": [
            "Enter a number: 2\n",
            "Enter a number: 4\n",
            "Enter a number: 0\n",
            "total = 6\n"
          ]
        }
      ],
      "source": [
        "total = 0\n",
        "\n",
        "number = int(input('Enter a number: '))\n",
        "\n",
        "# add numbers until number is zero\n",
        "while number != 0:\n",
        "    total += number    # total = total + number\n",
        "\n",
        "    # take integer input again\n",
        "    number = int(input('Enter a number: '))\n",
        "\n",
        "\n",
        "print('total =', total)"
      ]
    },
    {
      "cell_type": "code",
      "execution_count": 6,
      "metadata": {
        "colab": {
          "base_uri": "https://localhost:8080/"
        },
        "id": "PsBDcTozKaPr",
        "outputId": "b3c6b669-8242-4882-e3c3-cdd3b2da9d02"
      },
      "outputs": [
        {
          "name": "stdout",
          "output_type": "stream",
          "text": [
            "Inside loop\n",
            "Inside loop\n",
            "Inside loop\n",
            "Inside else\n"
          ]
        }
      ],
      "source": [
        "counter = 0\n",
        "while counter < 3:\n",
        "    print('Inside loop')\n",
        "    counter = counter + 1\n",
        "else:\n",
        "    print('Inside else')"
      ]
    },
    {
      "cell_type": "code",
      "execution_count": 7,
      "metadata": {
        "colab": {
          "base_uri": "https://localhost:8080/"
        },
        "id": "tL4-vQMFKsxu",
        "outputId": "43d07e94-0363-4301-fa7a-b6c1ed9b7373"
      },
      "outputs": [
        {
          "name": "stdout",
          "output_type": "stream",
          "text": [
            "Inside loop\n"
          ]
        }
      ],
      "source": [
        "counter = 0\n",
        "\n",
        "while counter < 3:\n",
        "    # loop ends because of break\n",
        "    # the else part is not executed\n",
        "    if counter == 1:\n",
        "        break\n",
        "\n",
        "    print('Inside loop')\n",
        "    counter = counter + 1\n",
        "else:\n",
        "    print('Inside else')"
      ]
    },
    {
      "cell_type": "code",
      "execution_count": 9,
      "metadata": {
        "colab": {
          "base_uri": "https://localhost:8080/"
        },
        "id": "wsE8lm5TLAt9",
        "outputId": "844edb2b-13d0-419d-8148-8b4a6fee0dbc"
      },
      "outputs": [
        {
          "name": "stdout",
          "output_type": "stream",
          "text": [
            "1\n",
            "2\n",
            "3\n"
          ]
        }
      ],
      "source": [
        "for i in range(1,4):\n",
        "    print(i)"
      ]
    },
    {
      "cell_type": "code",
      "execution_count": 20,
      "metadata": {
        "colab": {
          "base_uri": "https://localhost:8080/"
        },
        "id": "PCaM4UzbLMSF",
        "outputId": "0567c898-77cc-42b5-e84f-c3039e7935da"
      },
      "outputs": [
        {
          "name": "stdout",
          "output_type": "stream",
          "text": [
            "Enter Table You want to Print: 7\n",
            "7 X 1 = 7\n",
            "7 X 2 = 14\n",
            "7 X 3 = 21\n",
            "7 X 4 = 28\n",
            "7 X 5 = 35\n",
            "7 X 6 = 42\n",
            "7 X 7 = 49\n",
            "7 X 8 = 56\n",
            "7 X 9 = 63\n",
            "7 X 10 = 70\n"
          ]
        }
      ],
      "source": [
        "tableNumber=int(input(\"Enter Table You want to Print: \"))\n",
        "startFrom=tableNumber\n",
        "endTo=(tableNumber*10)+1\n",
        "x =1\n",
        "for i in range(startFrom,endTo,tableNumber):\n",
        "    #print(i)  # 5,10\n",
        "    strResult= str(tableNumber)+ \" X \" + str(x) + \" = \" + str(i)\n",
        "    print(strResult)\n",
        "    x=x+1\n",
        "    # 5X1 = 5\n",
        "    # 5X2 = 10"
      ]
    },
    {
      "cell_type": "markdown",
      "metadata": {
        "id": "-IVfrY5ANLCv"
      },
      "source": [
        "# Lambda"
      ]
    },
    {
      "cell_type": "code",
      "execution_count": 28,
      "metadata": {
        "id": "EdOj3tbeLVyJ"
      },
      "outputs": [],
      "source": [
        "# Before Lambda ( Function )\n",
        "\n",
        "#Function Defination\n",
        "def f1():\n",
        "  print(\"___________________\")\n",
        "  print(\"Welcome to Python\")\n",
        "  # print(\"___________________\")"
      ]
    },
    {
      "cell_type": "code",
      "execution_count": null,
      "metadata": {
        "id": "aRkOKEpnNpZW"
      },
      "outputs": [],
      "source": [
        "for i in range(11):\n",
        "  #Function Calling\n",
        "  f1()"
      ]
    },
    {
      "cell_type": "code",
      "execution_count": 31,
      "metadata": {
        "colab": {
          "base_uri": "https://localhost:8080/"
        },
        "id": "gUDpVp6ENy4A",
        "outputId": "6f673e8a-0725-4ef2-c47d-5c352ba58346"
      },
      "outputs": [
        {
          "name": "stdout",
          "output_type": "stream",
          "text": [
            "Welcome\n"
          ]
        }
      ],
      "source": [
        "#Function Defination\n",
        "f2= lambda : print(\"Welcome\")\n",
        "\n",
        "#Function Calling\n",
        "f2()"
      ]
    },
    {
      "cell_type": "code",
      "execution_count": 32,
      "metadata": {
        "id": "JBVJ5e1xOF1m"
      },
      "outputs": [],
      "source": [
        "def Add():\n",
        "  a=10\n",
        "  b=20\n",
        "  c=a+b\n",
        "  print(c)"
      ]
    },
    {
      "cell_type": "code",
      "execution_count": 33,
      "metadata": {
        "colab": {
          "base_uri": "https://localhost:8080/"
        },
        "id": "31KZrxkuOcD4",
        "outputId": "516321a8-00b6-40d2-9278-4f9be65a7616"
      },
      "outputs": [
        {
          "name": "stdout",
          "output_type": "stream",
          "text": [
            "30\n"
          ]
        }
      ],
      "source": [
        "Add()"
      ]
    },
    {
      "cell_type": "code",
      "execution_count": 34,
      "metadata": {
        "id": "CU3RIXnTOdXZ"
      },
      "outputs": [],
      "source": [
        "Subs = lambda : 10-2"
      ]
    },
    {
      "cell_type": "code",
      "execution_count": 35,
      "metadata": {
        "colab": {
          "base_uri": "https://localhost:8080/"
        },
        "id": "ci6IFYg5OnEp",
        "outputId": "c6b67444-5b37-45c6-99a2-bcba68557ba8"
      },
      "outputs": [
        {
          "data": {
            "text/plain": [
              "8"
            ]
          },
          "execution_count": 35,
          "metadata": {},
          "output_type": "execute_result"
        }
      ],
      "source": [
        "Subs()"
      ]
    },
    {
      "cell_type": "code",
      "execution_count": 37,
      "metadata": {
        "id": "SulaTvnlOoI_"
      },
      "outputs": [],
      "source": [
        "def Mul(a,b):\n",
        "  c=a*b\n",
        "  print(c)"
      ]
    },
    {
      "cell_type": "code",
      "execution_count": 38,
      "metadata": {
        "colab": {
          "base_uri": "https://localhost:8080/"
        },
        "id": "mOH2WC4eOvo-",
        "outputId": "a3e41521-e7c4-4236-f56b-139b4a3ff493"
      },
      "outputs": [
        {
          "name": "stdout",
          "output_type": "stream",
          "text": [
            "20\n"
          ]
        }
      ],
      "source": [
        "Mul(10,2)"
      ]
    },
    {
      "cell_type": "code",
      "execution_count": 39,
      "metadata": {
        "id": "x6-kO34yO0La"
      },
      "outputs": [],
      "source": [
        "Mul2 = lambda a,b: a*b"
      ]
    },
    {
      "cell_type": "code",
      "execution_count": 40,
      "metadata": {
        "colab": {
          "base_uri": "https://localhost:8080/"
        },
        "id": "mABYdafZO9u4",
        "outputId": "d239d389-142f-44b9-8bb1-d3b16a33732b"
      },
      "outputs": [
        {
          "data": {
            "text/plain": [
              "6"
            ]
          },
          "execution_count": 40,
          "metadata": {},
          "output_type": "execute_result"
        }
      ],
      "source": [
        "Mul2(2,3)"
      ]
    },
    {
      "cell_type": "code",
      "execution_count": 41,
      "metadata": {
        "colab": {
          "base_uri": "https://localhost:8080/"
        },
        "id": "6iCmMJUkO_OV",
        "outputId": "8f340b6e-088b-4007-fa60-ed6490354f1f"
      },
      "outputs": [
        {
          "name": "stdout",
          "output_type": "stream",
          "text": [
            "Hey there, Ravi\n"
          ]
        }
      ],
      "source": [
        "# lambda that accepts one argument\n",
        "greet_user = lambda name : print('Hey there,', name)\n",
        "\n",
        "# lambda call\n",
        "greet_user('Ravi')"
      ]
    },
    {
      "cell_type": "code",
      "execution_count": null,
      "metadata": {
        "id": "qNAD8Tg1PZ7K"
      },
      "outputs": [],
      "source": [
        "# Function that accepts one argument\n",
        "def greet_user( name):\n",
        "  print('Hey there,', name)\n",
        "\n",
        "# lambda call\n",
        "greet_user('Ravi')"
      ]
    },
    {
      "cell_type": "code",
      "execution_count": 42,
      "metadata": {
        "id": "rU6IplW_PocE"
      },
      "outputs": [],
      "source": [
        "fp = open(\"data1.txt\", \"w\")\n",
        "fp.write(\"Welcome to Python\")\n",
        "fp.close()"
      ]
    },
    {
      "cell_type": "code",
      "execution_count": 46,
      "metadata": {
        "colab": {
          "base_uri": "https://localhost:8080/"
        },
        "id": "lxfwXoQgQKMN",
        "outputId": "b8a2b915-f439-4d00-f659-24fda0bf29ff"
      },
      "outputs": [
        {
          "name": "stdout",
          "output_type": "stream",
          "text": [
            "Welcome to Python\n"
          ]
        }
      ],
      "source": [
        "try:\n",
        "  fp = open('data1.txt', \"r\")\n",
        "  strResult = fp.read()\n",
        "  print(strResult)\n",
        "finally:\n",
        "  fp.close()"
      ]
    },
    {
      "cell_type": "markdown",
      "metadata": {
        "id": "17AGf3KPQzfw"
      },
      "source": [
        "# OOP using Python"
      ]
    },
    {
      "cell_type": "code",
      "execution_count": 61,
      "metadata": {
        "id": "rCiL-92VQlsC"
      },
      "outputs": [],
      "source": [
        "# class Vehical:\n",
        "#   a=10\n",
        "#   def running(self):\n",
        "#     pass\n",
        "# class Bike(Vehical):\n",
        "#   def run(self,name):\n",
        "#     print(\"Running \"+name)\n",
        "#   def stop(self,gear):\n",
        "#     pass\n",
        "\n",
        "\n",
        "# b1= Bike()\n",
        "# b1.a=20\n",
        "# b1.running()\n",
        "# b1.stop(5)"
      ]
    },
    {
      "cell_type": "code",
      "execution_count": 60,
      "metadata": {
        "colab": {
          "base_uri": "https://localhost:8080/"
        },
        "id": "JF128SwHRDW_",
        "outputId": "a7fe1d7b-306d-4636-8961-7b1632f7a0c6"
      },
      "outputs": [
        {
          "name": "stdout",
          "output_type": "stream",
          "text": [
            "Running KRIZMA\n"
          ]
        }
      ],
      "source": [
        "#ObjectName =  ClassName()\n",
        "bike = Bike()\n",
        "bike.run(\"KRIZMA\")  #Abstraction"
      ]
    },
    {
      "cell_type": "code",
      "execution_count": 70,
      "metadata": {
        "colab": {
          "base_uri": "https://localhost:8080/"
        },
        "id": "-tVfmo2TRJ6x",
        "outputId": "3bb35917-1dc7-4c99-f710-1183c03bc7e0"
      },
      "outputs": [
        {
          "name": "stdout",
          "output_type": "stream",
          "text": [
            "{\"ok\":true,\"result\":[{\"update_id\":376735915,\n",
            "\"message\":{\"message_id\":4,\"from\":{\"id\":452757072,\"is_bot\":false,\"first_name\":\"Syed Mujahed\",\"username\":\"Mujahed_H\"},\"chat\":{\"id\":-4097867952,\"title\":\"Personal Testing Bot\",\"type\":\"group\",\"all_members_are_administrators\":true},\"date\":1703701582,\"text\":\"welcome\"}}]}\n"
          ]
        }
      ],
      "source": [
        "# Web REST API Calls\n",
        "import requests\n",
        "token=\"6774003891:AAHdOgqU6Apmx7EWKLx5_6WpkPMWyrCPAy8\"\n",
        "base_url = \"https://api.telegram.org/bot\"+token+\"/getUpdates\"\n",
        "\n",
        "parameters = {\n",
        "    \"offset\" : \"6774003891\"\n",
        "}\n",
        "\n",
        "resp = requests.get(base_url) #, data = parameters)\n",
        "print(resp.text)\n"
      ]
    },
    {
      "cell_type": "code",
      "execution_count": 69,
      "metadata": {
        "colab": {
          "base_uri": "https://localhost:8080/",
          "height": 35
        },
        "id": "b9I5aAa4SOKT",
        "outputId": "3dbdcb60-4109-48fd-c866-f30fc5e443f5"
      },
      "outputs": [
        {
          "data": {
            "application/vnd.google.colaboratory.intrinsic+json": {
              "type": "string"
            },
            "text/plain": [
              "'https://api.telegram.org/bot6774003891:AAHdOgqU6Apmx7EWKLx5_6WpkPMWyrCPAy8/getUpdates'"
            ]
          },
          "execution_count": 69,
          "metadata": {},
          "output_type": "execute_result"
        }
      ],
      "source": [
        "base_url"
      ]
    },
    {
      "cell_type": "code",
      "execution_count": null,
      "metadata": {
        "id": "6du58WuoSU0H"
      },
      "outputs": [],
      "source": []
    }
  ],
  "metadata": {
    "colab": {
      "provenance": []
    },
    "kernelspec": {
      "display_name": "Python 3",
      "name": "python3"
    },
    "language_info": {
      "name": "python"
    }
  },
  "nbformat": 4,
  "nbformat_minor": 0
}
